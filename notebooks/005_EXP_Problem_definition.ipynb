{
 "cells": [
  {
   "cell_type": "markdown",
   "metadata": {},
   "source": [
    "# MLOps Lifecycle\n",
    "\n",
    "<img src=\"img/mlops_lifecycle.png\" width=1200/>\n",
    "\n",
    "From [ACP MLOps Vision](https://aptivcs.atlassian.net/wiki/spaces/ACPSUM/pages/23086694365/MLOps+Workflow+Vision)"
   ]
  },
  {
   "cell_type": "markdown",
   "metadata": {},
   "source": [
    "# Problem definition"
   ]
  },
  {
   "cell_type": "markdown",
   "metadata": {},
   "source": [
    "## Problem statement\n",
    "Train a classifier on stock data. Predict whether the stock market for the BTC-USD (bitcoin ticker) will go up tomorrow.\n",
    "\n",
    "## Success criteria\n",
    "The highest performance metric of the F-score (F1-score) on a test dataset, cannot be lower than 0.60.\n",
    "\n",
    "## Model input\n",
    "Historical stock market dataset provided by [Yahoo Finance (public API)](https://finance.yahoo.com/quote/BTC-USD/): end of the day's price of a given ticker for the last 10 days.\n",
    "\n",
    "## Model output\n",
    "The model output is 1 for an increase in value of a stock ticker or 0 for a non-increase in the next day.\n",
    "\n",
    "## Data product\n",
    "ML Pipeline for stock market prediction with `MLflow`"
   ]
  },
  {
   "cell_type": "markdown",
   "metadata": {},
   "source": []
  }
 ],
 "metadata": {
  "kernelspec": {
   "display_name": "Python 3",
   "language": "python",
   "name": "python3"
  },
  "language_info": {
   "codemirror_mode": {
    "name": "ipython",
    "version": 3
   },
   "file_extension": ".py",
   "mimetype": "text/x-python",
   "name": "python",
   "nbconvert_exporter": "python",
   "pygments_lexer": "ipython3",
   "version": "3.7.6"
  }
 },
 "nbformat": 4,
 "nbformat_minor": 4
}
