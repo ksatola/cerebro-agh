{
 "cells": [
  {
   "cell_type": "markdown",
   "metadata": {},
   "source": [
    "# Experimentation\n",
    "\n",
    "<img src=\"img/mlops_experimentation.png\" width=1000/>"
   ]
  },
  {
   "cell_type": "markdown",
   "metadata": {},
   "source": [
    "# MLflow basic commands"
   ]
  },
  {
   "cell_type": "code",
   "execution_count": null,
   "metadata": {},
   "outputs": [],
   "source": [
    "import mlflow"
   ]
  },
  {
   "cell_type": "code",
   "execution_count": null,
   "metadata": {},
   "outputs": [],
   "source": [
    "print('MLflow version: {}'.format(mlflow.__version__))"
   ]
  },
  {
   "cell_type": "markdown",
   "metadata": {},
   "source": [
    "## Define experiment and log meta-data"
   ]
  },
  {
   "cell_type": "code",
   "execution_count": null,
   "metadata": {},
   "outputs": [],
   "source": [
    "mlflow.set_experiment('Basic tests')\n",
    "\n",
    "with mlflow.start_run():\n",
    "    \n",
    "    # Sting-based params\n",
    "    mlflow.log_param(\"name\", \"stock_prediction\")\n",
    "    mlflow.log_param(\"category\", \"algorithm\")\n",
    "    mlflow.log_param(\"type\", \"classification\")\n",
    "    \n",
    "    # Numeric values\n",
    "    for i in range(5):\n",
    "        mlflow.log_metric(\"i\", i, step=i)\n",
    "        \n",
    "    # Set tags\n",
    "    mlflow.set_tag(\"Tag1\", \"tag1\")\n",
    "    mlflow.set_tag(\"Tag2\", 1234)\n",
    "        \n",
    "    # Log entire file (this notebook)\n",
    "    mlflow.log_artifact(\"006_EXP_Experiment_init.ipynb\")\n",
    "    #mlflow.log_artifact(\"test/010_Experiment_init.ipynb\")\n",
    "    #mlflow.log_artifacts(\"test\")\n",
    "    "
   ]
  },
  {
   "cell_type": "markdown",
   "metadata": {},
   "source": [
    "## Import libraries to speed up later"
   ]
  },
  {
   "cell_type": "code",
   "execution_count": null,
   "metadata": {},
   "outputs": [],
   "source": [
    "# Run this in Jupyter's Terminal\n",
    "# pip install xgboost tensorflow hyperopt evidently pycaret"
   ]
  }
 ],
 "metadata": {
  "kernelspec": {
   "display_name": "Python 3",
   "language": "python",
   "name": "python3"
  },
  "language_info": {
   "codemirror_mode": {
    "name": "ipython",
    "version": 3
   },
   "file_extension": ".py",
   "mimetype": "text/x-python",
   "name": "python",
   "nbconvert_exporter": "python",
   "pygments_lexer": "ipython3",
   "version": "3.7.6"
  }
 },
 "nbformat": 4,
 "nbformat_minor": 4
}
