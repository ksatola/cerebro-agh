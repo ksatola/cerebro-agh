{
 "cells": [
  {
   "cell_type": "markdown",
   "metadata": {},
   "source": [
    "# Exlploratory Data Analysis"
   ]
  },
  {
   "cell_type": "code",
   "execution_count": null,
   "metadata": {},
   "outputs": [],
   "source": [
    "import os\n",
    "import sys\n",
    "import pandas as pd\n",
    "import numpy as np\n",
    "import datetime\n",
    "\n",
    "from matplotlib import pyplot as plt\n",
    "\n",
    "import pandas_datareader.data as web\n",
    "import requests\n",
    "\n",
    "import mlflow\n",
    "\n",
    "from data_utils import get_train_test_split_for_stock\n",
    "from config import *\n",
    "\n",
    "np.set_printoptions(threshold=sys.maxsize)"
   ]
  },
  {
   "cell_type": "markdown",
   "metadata": {},
   "source": [
    "## MLflow Naming Convention and Meta-data Organization (Taxonomy)"
   ]
  },
  {
   "cell_type": "markdown",
   "metadata": {},
   "source": [
    "```\n",
    "# Multi-project, single MLflow instance approach used in the demo (there are other ways to organize)\n",
    "# Experiment => <Project callsign>_<type of activity / phase>\n",
    "    - SP = Stock Prediction\n",
    "    - EXP = Experimentation\n",
    "    - TDP = Training Data Pipeline\n",
    "    - MT = Model Training\n",
    "    - MM = Model Monitoring\n",
    "    Examples:\n",
    "    - SP_EXP_EDA\n",
    "    - SP_EXP_Modelling\n",
    "    - SP_EXP_HyperParam_Tuning\n",
    "    - SP_Training_Data_Pipeline\n",
    "    - SP_Model_Training\n",
    "    - SP_Model_Monitoring\n",
    "# Run name => model name / sub-activity\n",
    "# Tags => other things we want to track\n",
    "\n",
    "Standardized approach is key!\n",
    "```"
   ]
  },
  {
   "cell_type": "markdown",
   "metadata": {},
   "source": [
    "## Set experiment"
   ]
  },
  {
   "cell_type": "code",
   "execution_count": null,
   "metadata": {},
   "outputs": [],
   "source": [
    "mlflow.set_experiment('SP_EXP_EDA')\n",
    "mlflow.start_run(run_name=\"Data Preparation\")\n",
    "\n",
    "# Do not forget about mlflow.end_run()"
   ]
  },
  {
   "cell_type": "markdown",
   "metadata": {},
   "source": [
    "## Get data"
   ]
  },
  {
   "cell_type": "code",
   "execution_count": null,
   "metadata": {},
   "outputs": [],
   "source": [
    "# Workaround to handle issue https://github.com/pydata/pandas-datareader/issues/868\n",
    "USER_AGENT = {\n",
    "    'User-Agent': ('Mozilla/5.0 (Windows NT 10.0; Win64; x64) AppleWebKit/537.36 (KHTML, like Gecko)'\n",
    "                ' Chrome/91.0.4472.124 Safari/537.36')\n",
    "    }\n",
    "sesh = requests.Session()\n",
    "sesh.headers.update(USER_AGENT)\n",
    "\n",
    "start = datetime.datetime(2014, 1, 1)\n",
    "end = datetime.datetime(2021, 12, 31)\n",
    "\n",
    "df = web.DataReader(\"BTC-USD\", 'yahoo', start, end, session=sesh)\n",
    "df"
   ]
  },
  {
   "cell_type": "markdown",
   "metadata": {},
   "source": [
    "## Visualize Open values"
   ]
  },
  {
   "cell_type": "code",
   "execution_count": null,
   "metadata": {},
   "outputs": [],
   "source": [
    "df['Open'].plot()\n",
    "plt.savefig(\"img/btc-usd.png\", format=\"png\", dpi=600)\n",
    "\n",
    "mlflow.log_artifact(\"img/btc-usd.png\")"
   ]
  },
  {
   "cell_type": "markdown",
   "metadata": {},
   "source": [
    "## Data preparation for modelling"
   ]
  },
  {
   "cell_type": "markdown",
   "metadata": {},
   "source": [
    "### Create labels (target value)"
   ]
  },
  {
   "cell_type": "code",
   "execution_count": null,
   "metadata": {},
   "outputs": [],
   "source": [
    "# Daily pct changes\n",
    "df['Delta Pct'] = (df['Close'] - df['Open'])/df['Open']\n",
    "df"
   ]
  },
  {
   "cell_type": "code",
   "execution_count": null,
   "metadata": {},
   "outputs": [],
   "source": [
    "df['Going Up'] = df['Delta Pct'].apply(lambda d: 1 if d > 0. else 0)\n",
    "df"
   ]
  },
  {
   "cell_type": "code",
   "execution_count": null,
   "metadata": {},
   "outputs": [],
   "source": [
    "df['Going Up'].to_numpy()[:10]"
   ]
  },
  {
   "cell_type": "code",
   "execution_count": null,
   "metadata": {},
   "outputs": [],
   "source": [
    "# We want t-1 : t-10 historical Going Ups and a current/to be predicted value = 11 in total\n",
    "WINDOW_SIZE"
   ]
  },
  {
   "cell_type": "code",
   "execution_count": null,
   "metadata": {},
   "outputs": [],
   "source": [
    "def rolling_window(a, window):\n",
    "    \"\"\"\n",
    "    Takes np.array 'a' and size 'window' as parameters \n",
    "    Outputs an np.array with all the ordered sequences of values of 'a' of size 'window'\n",
    "        e.g. Input: ( np.array([1, 2, 3, 4, 5, 6]), 4 )\n",
    "             Output: \n",
    "                     array([[1, 2, 3, 4],\n",
    "                           [2, 3, 4, 5],\n",
    "                           [3, 4, 5, 6]])\n",
    "    \"\"\"\n",
    "    shape = a.shape[:-1] + (a.shape[-1] - window + 1, window)\n",
    "    print(shape)\n",
    "    strides = a.strides + (a.strides[-1],)\n",
    "    return np.lib.stride_tricks.as_strided(a, shape=shape, strides=strides)"
   ]
  },
  {
   "cell_type": "code",
   "execution_count": null,
   "metadata": {},
   "outputs": [],
   "source": [
    "# t-10 | t-9 | ... | t-2 | t-1 | label (Going Up)\n",
    "training_dataset = rolling_window(df['Going Up'].to_numpy(), WINDOW_SIZE)\n",
    "training_dataset[:8]"
   ]
  },
  {
   "cell_type": "code",
   "execution_count": null,
   "metadata": {},
   "outputs": [],
   "source": [
    "cols = [\"t-{}\".format(10-i) for i in range(0, 10)] + [\"target\"]\n",
    "df = pd.DataFrame(training_dataset, columns=cols)\n",
    "df.iloc[:8]"
   ]
  },
  {
   "cell_type": "markdown",
   "metadata": {},
   "source": [
    "## Save data"
   ]
  },
  {
   "cell_type": "code",
   "execution_count": null,
   "metadata": {},
   "outputs": [],
   "source": [
    "df.to_csv(PATH_TO_DATA_FILE, index=False)"
   ]
  },
  {
   "cell_type": "markdown",
   "metadata": {},
   "source": [
    "## Log data and data transformation logic"
   ]
  },
  {
   "cell_type": "code",
   "execution_count": null,
   "metadata": {},
   "outputs": [],
   "source": [
    "# To be able to reproduce the EDA/modelling and be have a golder dataset for DRIFT assessment\n",
    "mlflow.log_artifact(PATH_TO_DATA_FILE)\n",
    "\n",
    "mlflow.log_artifact(\"010_EXP_EDA_and_data_preparation.ipynb\")"
   ]
  },
  {
   "cell_type": "markdown",
   "metadata": {},
   "source": [
    "## Train-Test Split\n",
    "We want to keep consistency while comparing different models, so we have single copy of data and single piece of code splitting the data into independent and dependent features."
   ]
  },
  {
   "cell_type": "code",
   "execution_count": null,
   "metadata": {},
   "outputs": [],
   "source": [
    "X = df.iloc[:, :-1]\n",
    "X[:8]"
   ]
  },
  {
   "cell_type": "code",
   "execution_count": null,
   "metadata": {},
   "outputs": [],
   "source": [
    "Y = df.iloc[:, -1]\n",
    "Y[:8]"
   ]
  },
  {
   "cell_type": "code",
   "execution_count": null,
   "metadata": {},
   "outputs": [],
   "source": [
    "# In the src/data_utils.py\n",
    "# DO NOT RUN this function definition from the notebook\n",
    "\n",
    "import pandas as pd\n",
    "from sklearn.model_selection import train_test_split\n",
    "\n",
    "#def get_train_test_split_for_stock(data_file):\n",
    "    \"\"\"\n",
    "    Takes... csv file\n",
    "    Outputs... X_train, X_test, y_train, y_test split\n",
    "    \"\"\"\n",
    "    \n",
    "    data = pd.read_csv(data_file)\n",
    "    \n",
    "    X = data.iloc[:, :-1]\n",
    "    Y = data.iloc[:, -1]\n",
    "    \n",
    "    X_train, X_test, y_train, y_test = train_test_split(X, Y, test_size=SPLIT_RATIO, random_state=RANDOM_STATE, stratify=Y)\n",
    "    \n",
    "    return X_train, X_test, y_train, y_test"
   ]
  },
  {
   "cell_type": "code",
   "execution_count": null,
   "metadata": {},
   "outputs": [],
   "source": [
    "X_train, X_test, y_train, y_test = get_train_test_split_for_stock(PATH_TO_DATA_FILE)\n",
    "X_train.shape, X_test.shape, y_train.shape, y_test.shape"
   ]
  },
  {
   "cell_type": "code",
   "execution_count": null,
   "metadata": {},
   "outputs": [],
   "source": [
    "mlflow.log_metric(\"random_state\", RANDOM_STATE)\n",
    "mlflow.log_metric(\"test_size\", SPLIT_RATIO)\n",
    "mlflow.set_tag(\"EDA\", \"Data preprocessing\")"
   ]
  },
  {
   "cell_type": "code",
   "execution_count": null,
   "metadata": {},
   "outputs": [],
   "source": [
    "mlflow.end_run()"
   ]
  },
  {
   "cell_type": "code",
   "execution_count": null,
   "metadata": {},
   "outputs": [],
   "source": []
  }
 ],
 "metadata": {
  "kernelspec": {
   "display_name": "Python 3",
   "language": "python",
   "name": "python3"
  },
  "language_info": {
   "codemirror_mode": {
    "name": "ipython",
    "version": 3
   },
   "file_extension": ".py",
   "mimetype": "text/x-python",
   "name": "python",
   "nbconvert_exporter": "python",
   "pygments_lexer": "ipython3",
   "version": "3.7.6"
  }
 },
 "nbformat": 4,
 "nbformat_minor": 4
}
