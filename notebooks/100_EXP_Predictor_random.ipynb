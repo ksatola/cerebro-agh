{
 "cells": [
  {
   "cell_type": "markdown",
   "metadata": {},
   "source": [
    "# Random Predictor"
   ]
  },
  {
   "cell_type": "code",
   "execution_count": null,
   "metadata": {},
   "outputs": [],
   "source": [
    "import random\n",
    "import os\n",
    "\n",
    "import mlflow\n",
    "from mlflow.pyfunc.model import PythonModel\n",
    "\n",
    "from sklearn.metrics import f1_score\n",
    "\n",
    "from data_utils import get_train_test_split_for_stock\n",
    "from config import *"
   ]
  },
  {
   "cell_type": "markdown",
   "metadata": {},
   "source": [
    "## Define a custom model"
   ]
  },
  {
   "cell_type": "code",
   "execution_count": null,
   "metadata": {},
   "outputs": [],
   "source": [
    "# Define a custom model\n",
    "class RandomPredictor(PythonModel):\n",
    "    \"\"\"\n",
    "    Docstring here...\n",
    "    \"\"\"\n",
    "    \n",
    "    def __init__(self):\n",
    "        pass\n",
    "\n",
    "    def predict(self, context, model_input):\n",
    "        return model_input.apply(lambda column: random.randint(0, 1), axis=1)"
   ]
  },
  {
   "cell_type": "code",
   "execution_count": null,
   "metadata": {},
   "outputs": [],
   "source": [
    "MODEL_FOLDER_NAME = \"random_predictor\"\n",
    "PATH_TO_MODEL_FOLDER = os.path.join(PATH_TO_CUSTOM_MODELS, MODEL_FOLDER_NAME)\n",
    "PATH_TO_MODEL_FOLDER"
   ]
  },
  {
   "cell_type": "code",
   "execution_count": null,
   "metadata": {},
   "outputs": [],
   "source": [
    "# Cleaning (the folder must not exist)\n",
    "#os.chdir(PATH_TO_NOTEBOOKS)\n",
    "#os.getcwd()"
   ]
  },
  {
   "cell_type": "code",
   "execution_count": null,
   "metadata": {},
   "outputs": [],
   "source": [
    "#!rm -fr /home/ksatola/work/data/custom_models/random_predictor"
   ]
  },
  {
   "cell_type": "markdown",
   "metadata": {},
   "source": [
    "## Save the model"
   ]
  },
  {
   "cell_type": "code",
   "execution_count": null,
   "metadata": {},
   "outputs": [],
   "source": [
    "# Construct and save the model\n",
    "\n",
    "r = RandomPredictor()\n",
    "\n",
    "mlflow.pyfunc.save_model(path=PATH_TO_MODEL_FOLDER, python_model=r)"
   ]
  },
  {
   "cell_type": "markdown",
   "metadata": {},
   "source": [
    "## Load the model"
   ]
  },
  {
   "cell_type": "code",
   "execution_count": null,
   "metadata": {},
   "outputs": [],
   "source": [
    "# Load the model in `python_function` format\n",
    "cls = mlflow.pyfunc.load_model(PATH_TO_MODEL_FOLDER)"
   ]
  },
  {
   "cell_type": "markdown",
   "metadata": {},
   "source": [
    "## Predict"
   ]
  },
  {
   "cell_type": "code",
   "execution_count": null,
   "metadata": {},
   "outputs": [],
   "source": [
    "X_train, X_test, y_train, y_test = get_train_test_split_for_stock(PATH_TO_DATA_FILE)\n",
    "X_train.shape, X_test.shape, y_train.shape, y_test.shape"
   ]
  },
  {
   "cell_type": "code",
   "execution_count": null,
   "metadata": {},
   "outputs": [],
   "source": [
    "model_output = cls.predict(X_test)\n",
    "model_output.head()"
   ]
  },
  {
   "cell_type": "code",
   "execution_count": null,
   "metadata": {},
   "outputs": [],
   "source": [
    "mlflow.set_experiment('SP_EXP_Modelling')\n",
    "\n",
    "with mlflow.start_run(run_name='random_predictor'):\n",
    "    \n",
    "    f1_max = 0\n",
    "    \n",
    "    for i in range(20):\n",
    "    \n",
    "        model_output = cls.predict(X_test)\n",
    "        \n",
    "        mlflow.log_metric(\"Predictions sum\", model_output.sum())\n",
    "        \n",
    "        y_pred = model_output\n",
    "        f1 = f1_score(y_test, y_pred)\n",
    "    \n",
    "        mlflow.set_tag(\"Model_name\", \"Random Predictor\")\n",
    "        mlflow.log_metric(key=\"testing_f1_score\", value=f1)\n",
    "\n",
    "        mlflow.set_tag(\"Model_name\", \"random predictor\")\n",
    "        \n",
    "        mlflow.log_artifact(\"100_EXP_Predictor_random.ipynb\")\n",
    "        mlflow.log_artifact(PATH_TO_MODEL_FOLDER)\n",
    "        \n",
    "        f1_max = max(f1_max, f1)\n",
    "        print(f1)\n",
    "    \n",
    "        # Use to show error and failed MLflow experiment\n",
    "        #mlflow.log_artifact(\"100_Predictor_random2.ipynb\")\n",
    "        \n",
    "    print(f\"Best F1-score for randon predictor: {f1_max}\")"
   ]
  },
  {
   "cell_type": "markdown",
   "metadata": {},
   "source": [
    "# Show\n",
    "- predictions metric diagram in mlflow\n",
    "- show failed experiment"
   ]
  },
  {
   "cell_type": "code",
   "execution_count": null,
   "metadata": {},
   "outputs": [],
   "source": []
  }
 ],
 "metadata": {
  "kernelspec": {
   "display_name": "Python 3",
   "language": "python",
   "name": "python3"
  },
  "language_info": {
   "codemirror_mode": {
    "name": "ipython",
    "version": 3
   },
   "file_extension": ".py",
   "mimetype": "text/x-python",
   "name": "python",
   "nbconvert_exporter": "python",
   "pygments_lexer": "ipython3",
   "version": "3.7.6"
  },
  "toc": {
   "base_numbering": 1,
   "nav_menu": {},
   "number_sections": true,
   "sideBar": true,
   "skip_h1_title": false,
   "title_cell": "Table of Contents",
   "title_sidebar": "Contents",
   "toc_cell": false,
   "toc_position": {},
   "toc_section_display": true,
   "toc_window_display": false
  }
 },
 "nbformat": 4,
 "nbformat_minor": 4
}
