{
 "cells": [
  {
   "cell_type": "markdown",
   "metadata": {},
   "source": [
    "# Inference from Docker Container\n",
    "\n",
    "<img src=\"img/mlops_prediction_serving_and_monitoring.png\" width=1200/>"
   ]
  },
  {
   "cell_type": "markdown",
   "metadata": {},
   "source": [
    "## Run this from a HOST computer (not DS Workbench)"
   ]
  },
  {
   "cell_type": "code",
   "execution_count": null,
   "metadata": {},
   "outputs": [],
   "source": [
    "import sys\n",
    "PATH_TO_SRC = \"/Users/ksatola/git/cerebro-agh/src\"\n",
    "PATH_TO_DATA_FILE = \"/Users/ksatola/git/cerebro-agh/data/data_pipeline/training/data.csv\"\n",
    "sys.path.insert(1, PATH_TO_SRC)\n",
    "\n",
    "import pandas as pd\n",
    "\n",
    "from data_utils import get_train_test_split_for_stock"
   ]
  },
  {
   "cell_type": "markdown",
   "metadata": {},
   "source": [
    "## Get data for inference"
   ]
  },
  {
   "cell_type": "code",
   "execution_count": null,
   "metadata": {},
   "outputs": [],
   "source": [
    "X_train, X_test, y_train, y_test = get_train_test_split_for_stock(PATH_TO_DATA_FILE)\n",
    "X_train.shape, X_test.shape, y_train.shape, y_test.shape"
   ]
  },
  {
   "cell_type": "code",
   "execution_count": null,
   "metadata": {},
   "outputs": [],
   "source": [
    "X_test.head()"
   ]
  },
  {
   "cell_type": "code",
   "execution_count": null,
   "metadata": {},
   "outputs": [],
   "source": [
    "X_test.iloc[:1]"
   ]
  },
  {
   "cell_type": "markdown",
   "metadata": {},
   "source": [
    "### Build Docker image with Mlflow serving our model"
   ]
  },
  {
   "cell_type": "code",
   "execution_count": null,
   "metadata": {},
   "outputs": [],
   "source": [
    "# Run from host terminal (takes about 20 minutes to build on my computer, so it is done before the demo)\n",
    "# http://michael-harmon.com/blog/GreenBuildings3.html#mlflow-four\n",
    "# pip install mlflow sklearn jupyterlab\n",
    "\n",
    "# cd /Users/ksatola/git/ds-workbench\n",
    "# jupyter lab --no-browser --port=8889\n",
    "\n",
    "#mlflow models build-docker -m '/Users/ksatola/git/ds-workbench/data/artifacts/2/31a923bb4af34d3e818204ad82ab9252/artifacts/model' -n \"mlflow1\""
   ]
  },
  {
   "cell_type": "code",
   "execution_count": null,
   "metadata": {},
   "outputs": [],
   "source": [
    "mlflow models build-docker -m '/Users/ksatola/git/cerebro-agh/data/artifacts/3/df2f6a41c8fd4c53809b9905a418b418/artifacts/model' -n \"mlflow_demo\""
   ]
  },
  {
   "cell_type": "code",
   "execution_count": null,
   "metadata": {},
   "outputs": [],
   "source": [
    "!docker images"
   ]
  },
  {
   "cell_type": "markdown",
   "metadata": {},
   "source": [
    "### Run Docker container based on the image"
   ]
  },
  {
   "cell_type": "code",
   "execution_count": null,
   "metadata": {},
   "outputs": [],
   "source": [
    "# In the host terminal\n",
    "# docker run -ip 8000:8080 mlflow_demo\n",
    "\n",
    "# Listens at: http://127.0.0.1:8000"
   ]
  },
  {
   "cell_type": "markdown",
   "metadata": {},
   "source": [
    "### Create and send REST API request to MLflow service"
   ]
  },
  {
   "cell_type": "code",
   "execution_count": null,
   "metadata": {},
   "outputs": [],
   "source": [
    "test_json = X_test.iloc[:5].to_json(orient='split')\n",
    "test_json"
   ]
  },
  {
   "cell_type": "code",
   "execution_count": null,
   "metadata": {},
   "outputs": [],
   "source": [
    "import requests\n",
    "\n",
    "result = requests.post(url=\"http://127.0.0.1:8000/invocations\",\n",
    "                       data=test_json,\n",
    "                       headers={'Content-Type':'application/json'})"
   ]
  },
  {
   "cell_type": "code",
   "execution_count": null,
   "metadata": {},
   "outputs": [],
   "source": [
    "result.json()"
   ]
  },
  {
   "cell_type": "code",
   "execution_count": null,
   "metadata": {},
   "outputs": [],
   "source": []
  }
 ],
 "metadata": {
  "kernelspec": {
   "display_name": "Python 3 (ipykernel)",
   "language": "python",
   "name": "python3"
  },
  "language_info": {
   "codemirror_mode": {
    "name": "ipython",
    "version": 3
   },
   "file_extension": ".py",
   "mimetype": "text/x-python",
   "name": "python",
   "nbconvert_exporter": "python",
   "pygments_lexer": "ipython3",
   "version": "3.9.7"
  }
 },
 "nbformat": 4,
 "nbformat_minor": 4
}
